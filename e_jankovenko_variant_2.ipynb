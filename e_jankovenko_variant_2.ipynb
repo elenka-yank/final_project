{
 "cells": [
  {
   "cell_type": "markdown",
   "metadata": {
    "id": "ZSUZ5gYQVXQX"
   },
   "source": [
    "## **Загрузка данных**"
   ]
  },
  {
   "cell_type": "code",
   "execution_count": 1,
   "metadata": {
    "id": "SbTDeQVK_7DZ"
   },
   "outputs": [],
   "source": [
    "import pandas as pd\n",
    "import seaborn as sns\n",
    "from scipy.stats import chi2_contingency\n",
    "import matplotlib.pyplot as plt\n",
    "import pandahouse as ph\n",
    "import requests\n",
    "import json\n",
    "from urllib.parse import urlencode\n",
    "\n",
    "plt.style.use('ggplot')"
   ]
  },
  {
   "cell_type": "code",
   "execution_count": 2,
   "metadata": {
    "colab": {
     "base_uri": "https://localhost:8080/"
    },
    "id": "lN75nRe8W1DG",
    "outputId": "cc35ac49-cb93-4db3-879b-e68fb9b9dc4f"
   },
   "outputs": [],
   "source": [
    "def load_file_in_yandex(public_key):\n",
    "    base_url = 'https://cloud-api.yandex.net/v1/disk/public/resources/download?'\n",
    "    public_key = public_key\n",
    "    # Получаем загрузочную ссылку\n",
    "    final_url = base_url + urlencode(dict(public_key=public_key))\n",
    "    response = requests.get(final_url)\n",
    "    \n",
    "    h = json.loads(response.text)['href']  # 'парсинг' ссылки на скачивание\n",
    "    \n",
    "    return h"
   ]
  },
  {
   "cell_type": "markdown",
   "metadata": {
    "id": "7CwEi9859YcU"
   },
   "source": [
    "### Функция, которая строит графики по получаемым метрикам"
   ]
  },
  {
   "cell_type": "code",
   "execution_count": 3,
   "metadata": {
    "id": "9mmau8jG6WaM"
   },
   "outputs": [],
   "source": [
    "def build_plot(data, m_1, m_2, m_3):\n",
    "    plt.figure(figsize=(16, 5))\n",
    "  \n",
    "    plt.subplot(1, 3, 1)\n",
    "    sns.barplot(data=data, y=m_1, x='grp')\n",
    "    plt.title(m_1)\n",
    "\n",
    "    # Две строки, два столбца. Текущая ячейка - 3\n",
    "    plt.subplot(1, 3, 2)\n",
    "    sns.barplot(data=data, y=m_2, x='grp')  \n",
    "    plt.title(m_2)\n",
    "\n",
    "    # Две строки, два столбца. Текущая ячейка - 2\n",
    "    plt.subplot(1, 3, 3)\n",
    "    sns.barplot(data=data, y=m_3, x='grp')  \n",
    "    plt.title(m_3)\n",
    "\n",
    "    plt.show()"
   ]
  },
  {
   "cell_type": "markdown",
   "metadata": {
    "id": "6QhahFcIVejN"
   },
   "source": [
    "### Файл с информацией о принадлежности пользователя к контрольной или экспериментальной группе (А – контроль, B – целевая группа) "
   ]
  },
  {
   "cell_type": "code",
   "execution_count": 4,
   "metadata": {
    "id": "9PBbWVkte1Qs"
   },
   "outputs": [],
   "source": [
    "groups = pd.read_csv(load_file_in_yandex('https://disk.yandex.ru/d/UhyYx41rTt3clQ'),\n",
    "                     sep=';', error_bad_lines=False, comment='#', encoding='cp1251')"
   ]
  },
  {
   "cell_type": "code",
   "execution_count": 5,
   "metadata": {
    "colab": {
     "base_uri": "https://localhost:8080/"
    },
    "id": "IOzrDQGQXQxI",
    "outputId": "4ea26c15-14c7-46ad-dae5-15c17575ae82"
   },
   "outputs": [
    {
     "data": {
      "text/plain": [
       "(74484, 2)"
      ]
     },
     "execution_count": 5,
     "metadata": {},
     "output_type": "execute_result"
    }
   ],
   "source": [
    "groups.shape"
   ]
  },
  {
   "cell_type": "code",
   "execution_count": 6,
   "metadata": {
    "colab": {
     "base_uri": "https://localhost:8080/"
    },
    "id": "EtWBBm5Le1Qt",
    "outputId": "a07df51d-b584-4c09-8df9-01fc79e083d4"
   },
   "outputs": [
    {
     "data": {
      "text/plain": [
       "74484"
      ]
     },
     "execution_count": 6,
     "metadata": {},
     "output_type": "execute_result"
    }
   ],
   "source": [
    "groups.id.nunique()"
   ]
  },
  {
   "cell_type": "code",
   "execution_count": 7,
   "metadata": {
    "colab": {
     "base_uri": "https://localhost:8080/"
    },
    "id": "CEmkDSLcXWnc",
    "outputId": "95984d0d-4a3f-42e9-cdd8-8eb58f7f8880"
   },
   "outputs": [
    {
     "data": {
      "text/plain": [
       "id     0.0\n",
       "grp    0.0\n",
       "dtype: float64"
      ]
     },
     "execution_count": 7,
     "metadata": {},
     "output_type": "execute_result"
    }
   ],
   "source": [
    "groups.isnull().mean()"
   ]
  },
  {
   "cell_type": "markdown",
   "metadata": {
    "id": "7o6WDuuQXb4U"
   },
   "source": [
    "В таблице все айди уникальны, пропущенных значений нет"
   ]
  },
  {
   "cell_type": "markdown",
   "metadata": {
    "id": "MBs3Ia86X6SA"
   },
   "source": [
    "### Файл с информацией о пользователях, которые зашли на платформу в дни проведения эксперимента"
   ]
  },
  {
   "cell_type": "code",
   "execution_count": 8,
   "metadata": {
    "id": "vUKLg0bEe1Qx"
   },
   "outputs": [],
   "source": [
    "active_studs = pd.read_csv(load_file_in_yandex('https://disk.yandex.ru/d/Tbs44Bm6H_FwFQ'), \n",
    "                           sep=';', error_bad_lines=False, comment='#', encoding='cp1251')"
   ]
  },
  {
   "cell_type": "code",
   "execution_count": 9,
   "metadata": {
    "colab": {
     "base_uri": "https://localhost:8080/"
    },
    "id": "U3QpIppVXtpP",
    "outputId": "1d608938-9c1f-4ca1-c167-57ef12a8ea64"
   },
   "outputs": [
    {
     "data": {
      "text/plain": [
       "(8341, 1)"
      ]
     },
     "execution_count": 9,
     "metadata": {},
     "output_type": "execute_result"
    }
   ],
   "source": [
    "active_studs.shape"
   ]
  },
  {
   "cell_type": "code",
   "execution_count": 10,
   "metadata": {
    "colab": {
     "base_uri": "https://localhost:8080/"
    },
    "id": "n_WZawUqXkzQ",
    "outputId": "ec6d6159-ff9a-4863-e803-19a13d353e34"
   },
   "outputs": [
    {
     "data": {
      "text/plain": [
       "8341"
      ]
     },
     "execution_count": 10,
     "metadata": {},
     "output_type": "execute_result"
    }
   ],
   "source": [
    "active_studs.student_id.nunique()"
   ]
  },
  {
   "cell_type": "code",
   "execution_count": 11,
   "metadata": {
    "colab": {
     "base_uri": "https://localhost:8080/"
    },
    "id": "iU-oooVeXwaI",
    "outputId": "c4613f61-49d1-4922-f2d5-74b6f8992610"
   },
   "outputs": [
    {
     "data": {
      "text/plain": [
       "0.0"
      ]
     },
     "execution_count": 11,
     "metadata": {},
     "output_type": "execute_result"
    }
   ],
   "source": [
    "active_studs.student_id.isnull().mean()"
   ]
  },
  {
   "cell_type": "markdown",
   "metadata": {
    "id": "8qCVKgK_X2rs"
   },
   "source": [
    "Все айди уникальны, пропусков нет. Переименую столбец в 'id' для дальнейшего удобства. Так же добавлю колонку с единицами для удобства последующего подсчета активных пользователей"
   ]
  },
  {
   "cell_type": "code",
   "execution_count": 12,
   "metadata": {
    "id": "c-eBPIzje1Qx"
   },
   "outputs": [],
   "source": [
    "active_studs = active_studs.rename(columns={'student_id': 'id'})"
   ]
  },
  {
   "cell_type": "code",
   "execution_count": 13,
   "metadata": {
    "id": "xG6oi9Q0e1Qy"
   },
   "outputs": [],
   "source": [
    "active_studs['activ'] = 1"
   ]
  },
  {
   "cell_type": "code",
   "execution_count": 14,
   "metadata": {
    "colab": {
     "base_uri": "https://localhost:8080/",
     "height": 206
    },
    "id": "mPcUbK1OYVEJ",
    "outputId": "a48420c9-f51e-477b-ea2c-f755e2e8331b"
   },
   "outputs": [
    {
     "data": {
      "text/html": [
       "<div>\n",
       "<style scoped>\n",
       "    .dataframe tbody tr th:only-of-type {\n",
       "        vertical-align: middle;\n",
       "    }\n",
       "\n",
       "    .dataframe tbody tr th {\n",
       "        vertical-align: top;\n",
       "    }\n",
       "\n",
       "    .dataframe thead th {\n",
       "        text-align: right;\n",
       "    }\n",
       "</style>\n",
       "<table border=\"1\" class=\"dataframe\">\n",
       "  <thead>\n",
       "    <tr style=\"text-align: right;\">\n",
       "      <th></th>\n",
       "      <th>id</th>\n",
       "      <th>activ</th>\n",
       "    </tr>\n",
       "  </thead>\n",
       "  <tbody>\n",
       "    <tr>\n",
       "      <th>0</th>\n",
       "      <td>581585</td>\n",
       "      <td>1</td>\n",
       "    </tr>\n",
       "    <tr>\n",
       "      <th>1</th>\n",
       "      <td>5723133</td>\n",
       "      <td>1</td>\n",
       "    </tr>\n",
       "    <tr>\n",
       "      <th>2</th>\n",
       "      <td>3276743</td>\n",
       "      <td>1</td>\n",
       "    </tr>\n",
       "    <tr>\n",
       "      <th>3</th>\n",
       "      <td>4238589</td>\n",
       "      <td>1</td>\n",
       "    </tr>\n",
       "    <tr>\n",
       "      <th>4</th>\n",
       "      <td>4475369</td>\n",
       "      <td>1</td>\n",
       "    </tr>\n",
       "  </tbody>\n",
       "</table>\n",
       "</div>"
      ],
      "text/plain": [
       "        id  activ\n",
       "0   581585      1\n",
       "1  5723133      1\n",
       "2  3276743      1\n",
       "3  4238589      1\n",
       "4  4475369      1"
      ]
     },
     "execution_count": 14,
     "metadata": {},
     "output_type": "execute_result"
    }
   ],
   "source": [
    "active_studs.head()"
   ]
  },
  {
   "cell_type": "markdown",
   "metadata": {
    "id": "lVoT8AfiYLQJ"
   },
   "source": [
    "### Файл с информацией об оплатах пользователей в дни проведения эксперимента"
   ]
  },
  {
   "cell_type": "code",
   "execution_count": 15,
   "metadata": {
    "id": "5_Lrf3zKe1Qy"
   },
   "outputs": [],
   "source": [
    "checks = pd.read_csv(load_file_in_yandex('https://disk.yandex.ru/d/pH1q-VqcxXjsVA'), \n",
    "                     sep=';', error_bad_lines=False, comment='#', encoding='cp1251')"
   ]
  },
  {
   "cell_type": "code",
   "execution_count": 16,
   "metadata": {
    "colab": {
     "base_uri": "https://localhost:8080/"
    },
    "id": "A9Dcj8pGYQ4n",
    "outputId": "2d548df4-ab65-4b0f-d57d-16ea246f70a0"
   },
   "outputs": [
    {
     "data": {
      "text/plain": [
       "(541, 2)"
      ]
     },
     "execution_count": 16,
     "metadata": {},
     "output_type": "execute_result"
    }
   ],
   "source": [
    "checks.shape"
   ]
  },
  {
   "cell_type": "code",
   "execution_count": 17,
   "metadata": {
    "colab": {
     "base_uri": "https://localhost:8080/"
    },
    "id": "kV2hVMSSYQ4o",
    "outputId": "c317fd9e-0c33-4402-d5e5-8bd616169c92"
   },
   "outputs": [
    {
     "data": {
      "text/plain": [
       "541"
      ]
     },
     "execution_count": 17,
     "metadata": {},
     "output_type": "execute_result"
    }
   ],
   "source": [
    "checks.student_id.nunique()"
   ]
  },
  {
   "cell_type": "code",
   "execution_count": 18,
   "metadata": {
    "colab": {
     "base_uri": "https://localhost:8080/"
    },
    "id": "a2wOyDWzYQ4o",
    "outputId": "af746669-2ba7-4645-d741-c2118d75e9f8"
   },
   "outputs": [
    {
     "data": {
      "text/plain": [
       "0.0"
      ]
     },
     "execution_count": 18,
     "metadata": {},
     "output_type": "execute_result"
    }
   ],
   "source": [
    "checks.student_id.isnull().mean()"
   ]
  },
  {
   "cell_type": "markdown",
   "metadata": {
    "id": "rlUmd9jCYWhU"
   },
   "source": [
    "Все айди уникальны, пропусков нет. Так же переименую столбец для удобства и добавлю столбец с единицами для подсчена купивших курс"
   ]
  },
  {
   "cell_type": "code",
   "execution_count": 19,
   "metadata": {
    "id": "WYXrjjXEe1Qz"
   },
   "outputs": [],
   "source": [
    "checks = checks.rename(columns={'student_id': 'id'})"
   ]
  },
  {
   "cell_type": "code",
   "execution_count": 20,
   "metadata": {
    "id": "C1i05_PQe1Qz"
   },
   "outputs": [],
   "source": [
    "checks['cheks'] = 1"
   ]
  },
  {
   "cell_type": "code",
   "execution_count": 21,
   "metadata": {
    "colab": {
     "base_uri": "https://localhost:8080/",
     "height": 206
    },
    "id": "gOybSjZWe1Qz",
    "outputId": "c6ccf3ff-ab58-48bc-ba48-aceecfb04abb"
   },
   "outputs": [
    {
     "data": {
      "text/html": [
       "<div>\n",
       "<style scoped>\n",
       "    .dataframe tbody tr th:only-of-type {\n",
       "        vertical-align: middle;\n",
       "    }\n",
       "\n",
       "    .dataframe tbody tr th {\n",
       "        vertical-align: top;\n",
       "    }\n",
       "\n",
       "    .dataframe thead th {\n",
       "        text-align: right;\n",
       "    }\n",
       "</style>\n",
       "<table border=\"1\" class=\"dataframe\">\n",
       "  <thead>\n",
       "    <tr style=\"text-align: right;\">\n",
       "      <th></th>\n",
       "      <th>id</th>\n",
       "      <th>rev</th>\n",
       "      <th>cheks</th>\n",
       "    </tr>\n",
       "  </thead>\n",
       "  <tbody>\n",
       "    <tr>\n",
       "      <th>0</th>\n",
       "      <td>1627</td>\n",
       "      <td>990.0</td>\n",
       "      <td>1</td>\n",
       "    </tr>\n",
       "    <tr>\n",
       "      <th>1</th>\n",
       "      <td>3185</td>\n",
       "      <td>690.0</td>\n",
       "      <td>1</td>\n",
       "    </tr>\n",
       "    <tr>\n",
       "      <th>2</th>\n",
       "      <td>25973</td>\n",
       "      <td>690.0</td>\n",
       "      <td>1</td>\n",
       "    </tr>\n",
       "    <tr>\n",
       "      <th>3</th>\n",
       "      <td>26280</td>\n",
       "      <td>690.0</td>\n",
       "      <td>1</td>\n",
       "    </tr>\n",
       "    <tr>\n",
       "      <th>4</th>\n",
       "      <td>100300</td>\n",
       "      <td>990.0</td>\n",
       "      <td>1</td>\n",
       "    </tr>\n",
       "  </tbody>\n",
       "</table>\n",
       "</div>"
      ],
      "text/plain": [
       "       id    rev  cheks\n",
       "0    1627  990.0      1\n",
       "1    3185  690.0      1\n",
       "2   25973  690.0      1\n",
       "3   26280  690.0      1\n",
       "4  100300  990.0      1"
      ]
     },
     "execution_count": 21,
     "metadata": {},
     "output_type": "execute_result"
    }
   ],
   "source": [
    "checks.head()"
   ]
  },
  {
   "cell_type": "markdown",
   "metadata": {
    "id": "ZMOkwh0gZYV8"
   },
   "source": [
    "За основу беру таблицу active_studs, так как именно эти студены участвовали в эксперименте и могли оценить новую механику оплаты"
   ]
  },
  {
   "cell_type": "markdown",
   "metadata": {
    "id": "HEBe91njbmtJ"
   },
   "source": [
    "## **Общая таблица. Проверка данных**"
   ]
  },
  {
   "cell_type": "code",
   "execution_count": 22,
   "metadata": {
    "id": "eUn4orFje1Q0"
   },
   "outputs": [],
   "source": [
    "studs = active_studs.merge(groups, how='left', on='id').merge(checks, how='left', on='id')"
   ]
  },
  {
   "cell_type": "code",
   "execution_count": 23,
   "metadata": {
    "colab": {
     "base_uri": "https://localhost:8080/"
    },
    "id": "viSkZu0Re1Q0",
    "outputId": "b18c58dd-062c-439b-9e94-9ddaf3581700"
   },
   "outputs": [
    {
     "data": {
      "text/plain": [
       "(8341, 5)"
      ]
     },
     "execution_count": 23,
     "metadata": {},
     "output_type": "execute_result"
    }
   ],
   "source": [
    "studs.shape"
   ]
  },
  {
   "cell_type": "code",
   "execution_count": 24,
   "metadata": {
    "colab": {
     "base_uri": "https://localhost:8080/"
    },
    "id": "lZviEYVyaToY",
    "outputId": "702e17c3-93ea-40db-e71c-fd093cb55913"
   },
   "outputs": [
    {
     "data": {
      "text/plain": [
       "id       8341\n",
       "activ       1\n",
       "grp         2\n",
       "rev        38\n",
       "cheks       1\n",
       "dtype: int64"
      ]
     },
     "execution_count": 24,
     "metadata": {},
     "output_type": "execute_result"
    }
   ],
   "source": [
    "studs.nunique()"
   ]
  },
  {
   "cell_type": "code",
   "execution_count": 25,
   "metadata": {
    "colab": {
     "base_uri": "https://localhost:8080/"
    },
    "id": "AUF1Ju9rYphR",
    "outputId": "ad98b444-5fb2-4c86-ec98-376890300e82"
   },
   "outputs": [
    {
     "data": {
      "text/plain": [
       "id       0.000000\n",
       "activ    0.000000\n",
       "grp      0.001559\n",
       "rev      0.953003\n",
       "cheks    0.953003\n",
       "dtype: float64"
      ]
     },
     "execution_count": 25,
     "metadata": {},
     "output_type": "execute_result"
    }
   ],
   "source": [
    "studs.isnull().mean()"
   ]
  },
  {
   "cell_type": "code",
   "execution_count": 29,
   "metadata": {
    "colab": {
     "base_uri": "https://localhost:8080/"
    },
    "id": "Bd7LShRiTsX_",
    "outputId": "d6f98351-04ae-4c30-cd65-997e9558fd4e"
   },
   "outputs": [
    {
     "data": {
      "text/plain": [
       "(13, 5)"
      ]
     },
     "execution_count": 29,
     "metadata": {},
     "output_type": "execute_result"
    }
   ],
   "source": [
    "studs[studs['grp'].isnull() == True].shape"
   ]
  },
  {
   "cell_type": "markdown",
   "metadata": {
    "id": "TQonMoJfZv7o"
   },
   "source": [
    "Проверяю наличие пустых значений. В столбце grp присутствуют пустные значения, следовательно есть студенты, которые заходили на платформу, но группа им не присвоена. Для изучения результатов проведения теста данных студентов необходимо исключить из таблицы.\n",
    "В столбце rev есть пустые значения, что естественно,так как не все студенты за отчетный период совершали покупки"
   ]
  },
  {
   "cell_type": "code",
   "execution_count": 29,
   "metadata": {
    "id": "koCMktXcUkKQ"
   },
   "outputs": [],
   "source": [
    "studs = studs.dropna(subset=['grp'], axis=0)"
   ]
  },
  {
   "cell_type": "code",
   "execution_count": 30,
   "metadata": {
    "colab": {
     "base_uri": "https://localhost:8080/"
    },
    "id": "LLJ45lDPJBdZ",
    "outputId": "4390a8b7-bc85-4b6a-faba-79cdc6058076"
   },
   "outputs": [
    {
     "data": {
      "text/plain": [
       "id       0.00000\n",
       "activ    0.00000\n",
       "grp      0.00000\n",
       "rev      0.95305\n",
       "cheks    0.95305\n",
       "dtype: float64"
      ]
     },
     "execution_count": 30,
     "metadata": {},
     "output_type": "execute_result"
    }
   ],
   "source": [
    "studs.isnull().mean()"
   ]
  },
  {
   "cell_type": "code",
   "execution_count": 31,
   "metadata": {
    "colab": {
     "base_uri": "https://localhost:8080/"
    },
    "id": "qs2Ya6gCe1Q1",
    "outputId": "d2682313-5461-4814-9103-baef94e8820c"
   },
   "outputs": [
    {
     "data": {
      "text/plain": [
       "573326.0035999999"
      ]
     },
     "execution_count": 31,
     "metadata": {},
     "output_type": "execute_result"
    }
   ],
   "source": [
    "checks['rev'].sum()"
   ]
  },
  {
   "cell_type": "code",
   "execution_count": 32,
   "metadata": {
    "colab": {
     "base_uri": "https://localhost:8080/"
    },
    "id": "evsNmd_4e1Q1",
    "outputId": "e32e7129-6a35-49e8-eb90-a0439b34793b"
   },
   "outputs": [
    {
     "data": {
      "text/plain": [
       "465894.00350000005"
      ]
     },
     "execution_count": 32,
     "metadata": {},
     "output_type": "execute_result"
    }
   ],
   "source": [
    "studs['rev'].sum()"
   ]
  },
  {
   "cell_type": "code",
   "execution_count": 33,
   "metadata": {
    "id": "OALahISCe1Q1"
   },
   "outputs": [],
   "source": [
    "t = checks.merge(active_studs, how='left', on='id')"
   ]
  },
  {
   "cell_type": "code",
   "execution_count": 34,
   "metadata": {
    "colab": {
     "base_uri": "https://localhost:8080/"
    },
    "id": "SSbHsLqge1Q1",
    "outputId": "57f469df-864e-4aa2-8bb9-29ddf945cbc2"
   },
   "outputs": [
    {
     "data": {
      "text/plain": [
       "573326.0035999999"
      ]
     },
     "execution_count": 34,
     "metadata": {},
     "output_type": "execute_result"
    }
   ],
   "source": [
    "t['rev'].sum()"
   ]
  },
  {
   "cell_type": "code",
   "execution_count": 35,
   "metadata": {
    "colab": {
     "base_uri": "https://localhost:8080/",
     "height": 424
    },
    "id": "XN_J3VgDe1Q2",
    "outputId": "e18bc7d0-0046-4448-d852-c052b626f526"
   },
   "outputs": [
    {
     "data": {
      "text/html": [
       "<div>\n",
       "<style scoped>\n",
       "    .dataframe tbody tr th:only-of-type {\n",
       "        vertical-align: middle;\n",
       "    }\n",
       "\n",
       "    .dataframe tbody tr th {\n",
       "        vertical-align: top;\n",
       "    }\n",
       "\n",
       "    .dataframe thead th {\n",
       "        text-align: right;\n",
       "    }\n",
       "</style>\n",
       "<table border=\"1\" class=\"dataframe\">\n",
       "  <thead>\n",
       "    <tr style=\"text-align: right;\">\n",
       "      <th></th>\n",
       "      <th>id</th>\n",
       "      <th>rev</th>\n",
       "      <th>cheks</th>\n",
       "      <th>activ</th>\n",
       "    </tr>\n",
       "  </thead>\n",
       "  <tbody>\n",
       "    <tr>\n",
       "      <th>1</th>\n",
       "      <td>3185</td>\n",
       "      <td>690.0</td>\n",
       "      <td>1</td>\n",
       "      <td>NaN</td>\n",
       "    </tr>\n",
       "    <tr>\n",
       "      <th>2</th>\n",
       "      <td>25973</td>\n",
       "      <td>690.0</td>\n",
       "      <td>1</td>\n",
       "      <td>NaN</td>\n",
       "    </tr>\n",
       "    <tr>\n",
       "      <th>3</th>\n",
       "      <td>26280</td>\n",
       "      <td>690.0</td>\n",
       "      <td>1</td>\n",
       "      <td>NaN</td>\n",
       "    </tr>\n",
       "    <tr>\n",
       "      <th>5</th>\n",
       "      <td>100645</td>\n",
       "      <td>630.0</td>\n",
       "      <td>1</td>\n",
       "      <td>NaN</td>\n",
       "    </tr>\n",
       "    <tr>\n",
       "      <th>6</th>\n",
       "      <td>102534</td>\n",
       "      <td>580.0</td>\n",
       "      <td>1</td>\n",
       "      <td>NaN</td>\n",
       "    </tr>\n",
       "    <tr>\n",
       "      <th>...</th>\n",
       "      <td>...</td>\n",
       "      <td>...</td>\n",
       "      <td>...</td>\n",
       "      <td>...</td>\n",
       "    </tr>\n",
       "    <tr>\n",
       "      <th>508</th>\n",
       "      <td>5291900</td>\n",
       "      <td>199.0</td>\n",
       "      <td>1</td>\n",
       "      <td>NaN</td>\n",
       "    </tr>\n",
       "    <tr>\n",
       "      <th>512</th>\n",
       "      <td>5331842</td>\n",
       "      <td>290.0</td>\n",
       "      <td>1</td>\n",
       "      <td>NaN</td>\n",
       "    </tr>\n",
       "    <tr>\n",
       "      <th>521</th>\n",
       "      <td>5486319</td>\n",
       "      <td>199.0</td>\n",
       "      <td>1</td>\n",
       "      <td>NaN</td>\n",
       "    </tr>\n",
       "    <tr>\n",
       "      <th>530</th>\n",
       "      <td>5562806</td>\n",
       "      <td>398.0</td>\n",
       "      <td>1</td>\n",
       "      <td>NaN</td>\n",
       "    </tr>\n",
       "    <tr>\n",
       "      <th>534</th>\n",
       "      <td>5599663</td>\n",
       "      <td>1900.0</td>\n",
       "      <td>1</td>\n",
       "      <td>NaN</td>\n",
       "    </tr>\n",
       "  </tbody>\n",
       "</table>\n",
       "<p>149 rows × 4 columns</p>\n",
       "</div>"
      ],
      "text/plain": [
       "          id     rev  cheks  activ\n",
       "1       3185   690.0      1    NaN\n",
       "2      25973   690.0      1    NaN\n",
       "3      26280   690.0      1    NaN\n",
       "5     100645   630.0      1    NaN\n",
       "6     102534   580.0      1    NaN\n",
       "..       ...     ...    ...    ...\n",
       "508  5291900   199.0      1    NaN\n",
       "512  5331842   290.0      1    NaN\n",
       "521  5486319   199.0      1    NaN\n",
       "530  5562806   398.0      1    NaN\n",
       "534  5599663  1900.0      1    NaN\n",
       "\n",
       "[149 rows x 4 columns]"
      ]
     },
     "execution_count": 35,
     "metadata": {},
     "output_type": "execute_result"
    }
   ],
   "source": [
    "t[t['activ'].isnull() == True]"
   ]
  },
  {
   "cell_type": "markdown",
   "metadata": {
    "id": "6U-ouLepe1Q2"
   },
   "source": [
    "149 студентов, у которых была оплата за измеряемый период, но не было входа"
   ]
  },
  {
   "cell_type": "markdown",
   "metadata": {
    "id": "jbJSZALCe1Q4"
   },
   "source": [
    "Сумма оплаты в общей таблице, созданной на основе заходивших на платформу студентов не сходится с суммой в таблице оплаты. Значит есть студенты, кто не заходил на платформу, но оплата прошла по ним. Для расчета метрик за пользователей буду брать таблицу активных студентов, кто заходил на платформу в течении контрольного периода. Принимаю решение, что 149 студентов, которые оплатили, но не посещали сайт, были там ранее и у них уже была ссылка на оплату либо какой-то автоматический платеж. Соответственно новую механику оплаты услуг они не видели и как она повлияла на принятие решения на оплату узнать невозможно"
   ]
  },
  {
   "cell_type": "code",
   "execution_count": 36,
   "metadata": {
    "id": "oMvPBk3Ue1Q5"
   },
   "outputs": [],
   "source": [
    "studs[['activ', 'rev', 'cheks']] = studs[['activ', 'rev', 'cheks']].fillna(0)"
   ]
  },
  {
   "cell_type": "code",
   "execution_count": 37,
   "metadata": {
    "colab": {
     "base_uri": "https://localhost:8080/"
    },
    "id": "svLY3oG6e1Q5",
    "outputId": "9f93b226-10f0-43c8-9922-9c767e8b6bbf"
   },
   "outputs": [
    {
     "data": {
      "text/plain": [
       "id       0.0\n",
       "activ    0.0\n",
       "grp      0.0\n",
       "rev      0.0\n",
       "cheks    0.0\n",
       "dtype: float64"
      ]
     },
     "execution_count": 37,
     "metadata": {},
     "output_type": "execute_result"
    }
   ],
   "source": [
    "studs.isnull().mean()"
   ]
  },
  {
   "cell_type": "code",
   "execution_count": 38,
   "metadata": {
    "id": "xrNKrDjde1Q6"
   },
   "outputs": [],
   "source": [
    "control = studs[studs['grp'] == 'A']"
   ]
  },
  {
   "cell_type": "code",
   "execution_count": 39,
   "metadata": {
    "id": "qt-KU1ube1Q6"
   },
   "outputs": [],
   "source": [
    "pilot = studs[studs['grp'] == 'B']"
   ]
  },
  {
   "cell_type": "code",
   "execution_count": 40,
   "metadata": {
    "id": "uJzx9oFZfo4j"
   },
   "outputs": [],
   "source": [
    "sum_by_cheks = studs.groupby('grp', as_index=False).agg({'rev': 'sum', 'cheks': 'sum'})"
   ]
  },
  {
   "cell_type": "code",
   "execution_count": 41,
   "metadata": {
    "id": "ooRICUMtgSL3"
   },
   "outputs": [],
   "source": [
    "sum_by_cheks['mean_chek'] = sum_by_cheks.rev / sum_by_cheks.cheks"
   ]
  },
  {
   "cell_type": "code",
   "execution_count": 42,
   "metadata": {
    "colab": {
     "base_uri": "https://localhost:8080/",
     "height": 112
    },
    "id": "fviduA1khLh_",
    "outputId": "a44d77ba-00b4-4153-b524-d3eea69d6800"
   },
   "outputs": [
    {
     "data": {
      "text/html": [
       "<div>\n",
       "<style scoped>\n",
       "    .dataframe tbody tr th:only-of-type {\n",
       "        vertical-align: middle;\n",
       "    }\n",
       "\n",
       "    .dataframe tbody tr th {\n",
       "        vertical-align: top;\n",
       "    }\n",
       "\n",
       "    .dataframe thead th {\n",
       "        text-align: right;\n",
       "    }\n",
       "</style>\n",
       "<table border=\"1\" class=\"dataframe\">\n",
       "  <thead>\n",
       "    <tr style=\"text-align: right;\">\n",
       "      <th></th>\n",
       "      <th>grp</th>\n",
       "      <th>rev</th>\n",
       "      <th>cheks</th>\n",
       "      <th>mean_chek</th>\n",
       "    </tr>\n",
       "  </thead>\n",
       "  <tbody>\n",
       "    <tr>\n",
       "      <th>0</th>\n",
       "      <td>A</td>\n",
       "      <td>72820.0000</td>\n",
       "      <td>78.0</td>\n",
       "      <td>933.589744</td>\n",
       "    </tr>\n",
       "    <tr>\n",
       "      <th>1</th>\n",
       "      <td>B</td>\n",
       "      <td>393074.0035</td>\n",
       "      <td>313.0</td>\n",
       "      <td>1255.827487</td>\n",
       "    </tr>\n",
       "  </tbody>\n",
       "</table>\n",
       "</div>"
      ],
      "text/plain": [
       "  grp          rev  cheks    mean_chek\n",
       "0   A   72820.0000   78.0   933.589744\n",
       "1   B  393074.0035  313.0  1255.827487"
      ]
     },
     "execution_count": 42,
     "metadata": {},
     "output_type": "execute_result"
    }
   ],
   "source": [
    "sum_by_cheks"
   ]
  },
  {
   "cell_type": "code",
   "execution_count": 43,
   "metadata": {
    "id": "QgNERUPqeUaE"
   },
   "outputs": [],
   "source": [
    "t = studs.groupby(['grp', 'rev'], as_index=False).agg({'id': 'count'})"
   ]
  },
  {
   "cell_type": "code",
   "execution_count": 44,
   "metadata": {
    "colab": {
     "base_uri": "https://localhost:8080/",
     "height": 299
    },
    "id": "LKOYVpLZFU1M",
    "outputId": "ea0f0fcb-bcf4-4ecf-a9cf-4dc2c4e8b766"
   },
   "outputs": [
    {
     "data": {
      "text/plain": [
       "<matplotlib.axes._subplots.AxesSubplot at 0x7f46881d8240>"
      ]
     },
     "execution_count": 44,
     "metadata": {},
     "output_type": "execute_result"
    },
    {
     "data": {
      "image/png": "[encoded data removed]",
      "text/plain": [
       "<Figure size 432x288 with 1 Axes>"
      ]
     },
     "metadata": {},
     "output_type": "display_data"
    }
   ],
   "source": [
    "sns.histplot(control[control['rev'] > 0].rev)"
   ]
  },
  {
   "cell_type": "code",
   "execution_count": 45,
   "metadata": {
    "colab": {
     "base_uri": "https://localhost:8080/",
     "height": 301
    },
    "id": "bMl5JrTIGZDl",
    "outputId": "db5e8039-3ce8-4c9b-9b13-4ac64ce12667"
   },
   "outputs": [
    {
     "data": {
      "text/plain": [
       "<matplotlib.axes._subplots.AxesSubplot at 0x7f4675778208>"
      ]
     },
     "execution_count": 45,
     "metadata": {},
     "output_type": "execute_result"
    },
    {
     "data": {
      "image/png": "[encoded data removed]",
      "text/plain": [
       "<Figure size 432x288 with 1 Axes>"
      ]
     },
     "metadata": {},
     "output_type": "display_data"
    }
   ],
   "source": [
    "sns.histplot(pilot[pilot['rev'] > 0].rev)"
   ]
  },
  {
   "cell_type": "code",
   "execution_count": 46,
   "metadata": {
    "colab": {
     "base_uri": "https://localhost:8080/"
    },
    "id": "yFwIEJ0jFU32",
    "outputId": "24226eb5-0b1d-44e6-daab-cbc525c35ac3"
   },
   "outputs": [
    {
     "data": {
      "text/plain": [
       "0.0000       6480\n",
       "1900.0000      92\n",
       "290.0000       45\n",
       "1900.0001      35\n",
       "199.0000       27\n",
       "Name: rev, dtype: int64"
      ]
     },
     "execution_count": 46,
     "metadata": {},
     "output_type": "execute_result"
    }
   ],
   "source": [
    "pilot['rev'].value_counts().head()"
   ]
  },
  {
   "cell_type": "code",
   "execution_count": 47,
   "metadata": {
    "colab": {
     "base_uri": "https://localhost:8080/"
    },
    "id": "WJx_rb2tHCMw",
    "outputId": "7993c76c-3754-40aa-b802-99c3e9272a78"
   },
   "outputs": [
    {
     "data": {
      "text/plain": [
       "0.0      1457\n",
       "290.0      25\n",
       "580.0       6\n",
       "590.0       5\n",
       "199.0       5\n",
       "Name: rev, dtype: int64"
      ]
     },
     "execution_count": 47,
     "metadata": {},
     "output_type": "execute_result"
    }
   ],
   "source": [
    "control['rev'].value_counts().head()"
   ]
  },
  {
   "cell_type": "code",
   "execution_count": 48,
   "metadata": {
    "id": "hzsGCS1aJFFU"
   },
   "outputs": [],
   "source": [
    "not_1900 = pilot[~pilot['rev'].isin([1900, 1900.0001])]"
   ]
  },
  {
   "cell_type": "code",
   "execution_count": 49,
   "metadata": {
    "colab": {
     "base_uri": "https://localhost:8080/"
    },
    "id": "Gqwd44mgLCcw",
    "outputId": "c3bfc0b6-9e1f-4536-a9b2-95c81ca300de"
   },
   "outputs": [
    {
     "data": {
      "text/plain": [
       "815.989247311828"
      ]
     },
     "execution_count": 49,
     "metadata": {},
     "output_type": "execute_result"
    }
   ],
   "source": [
    "not_1900['rev'].sum() / not_1900['cheks'].sum()"
   ]
  },
  {
   "cell_type": "markdown",
   "metadata": {
    "id": "7-hn3ygchnBu"
   },
   "source": [
    "На основе полученной таблицы видно, что сумма среднего чека различается между тестовой и контрольной группами. В тестовой группе она выше на 344р. \n",
    "Но так же на графиках видно, что в тестовой группе есть крупный выброс в виде курса, стоимостью 1900р (93 и 35 покупок). В тестовой группе нет оплат с такой стоимостью.\n",
    "Если из тестовой группы убрать оплаты по 1900 и 1900.0001(считаю их равнозначными), то видно, что средняя стоимость курса даже уменьшилась.\n",
    "Возможно в период проведения теста тестовой группе так же добавили какую то акцию, что подвергает сомнению в принципе проведение всего теста. \n",
    "На основе вышеизложенной информации делаю вывод, что наиболее информативной  метрикой для изучения статитстической значимости проведенного теста можно взять конверсию в покупку (CR)"
   ]
  },
  {
   "cell_type": "code",
   "execution_count": 69,
   "metadata": {
    "id": "x7oop7Tpe1Q8"
   },
   "outputs": [],
   "source": [
    "# Функция для расчета метрик\n",
    "def metrics(studs):\n",
    "    df_metrics = studs.groupby('grp', as_index=False)[['activ', 'cheks', 'rev']].agg('sum') \\\n",
    "        .assign(ARPU=lambda x: round((x.rev / x.activ), 2),\n",
    "                ARPPU=lambda x: round((x.rev / x.cheks), 2),\n",
    "                CR=lambda x: round((x.cheks / x.activ) * 100, 2))\n",
    "    return (df_metrics)"
   ]
  },
  {
   "cell_type": "code",
   "execution_count": 56,
   "metadata": {
    "id": "JPo5xpmie1Q8"
   },
   "outputs": [],
   "source": [
    "df_metrics = metrics(studs)"
   ]
  },
  {
   "cell_type": "code",
   "execution_count": 57,
   "metadata": {
    "colab": {
     "base_uri": "https://localhost:8080/",
     "height": 354
    },
    "id": "V8-bfTiL-vk_",
    "outputId": "bfa23c05-4b68-4efb-c0f0-9239ff6371df"
   },
   "outputs": [
    {
     "data": {
      "image/png": "[encoded data removed]",
      "text/plain": [
       "<Figure size 1152x360 with 3 Axes>"
      ]
     },
     "metadata": {},
     "output_type": "display_data"
    }
   ],
   "source": [
    "build_plot(df_metrics, 'ARPU', 'ARPPU', 'CR')"
   ]
  },
  {
   "cell_type": "markdown",
   "metadata": {
    "id": "oAJABL_xRaPo"
   },
   "source": [
    "## **Проверка гипотез**"
   ]
  },
  {
   "cell_type": "markdown",
   "metadata": {
    "id": "3CsAAeRaRjBY"
   },
   "source": [
    "Так как в столбце studs.cheks у нас есть информация о том, что студент заходил на платформу (0) и совершил оплату (1) понимаем, что имеем дело с категориальными переменными. Поэтому для проверки нулевой гипотезы используем Хи-квадрат. Для это строим сводную таблицу"
   ]
  },
  {
   "cell_type": "code",
   "execution_count": 58,
   "metadata": {
    "id": "B5ZgMXk3kYp1"
   },
   "outputs": [],
   "source": [
    "CR = studs.groupby('grp', as_index=False).agg({'cheks': ['sum', 'count']})"
   ]
  },
  {
   "cell_type": "code",
   "execution_count": 59,
   "metadata": {
    "colab": {
     "base_uri": "https://localhost:8080/"
    },
    "id": "kBU8anZnrj4N",
    "outputId": "c11d6207-b872-40cf-e0fb-72e77ea2bbe8"
   },
   "outputs": [
    {
     "name": "stderr",
     "output_type": "stream",
     "text": [
      "/opt/tljh/user/lib/python3.7/site-packages/pandas/core/frame.py:6831: PerformanceWarning: dropping on a non-lexsorted multi-index without a level parameter may impact performance.\n",
      "  observed=observed,\n",
      "/opt/tljh/user/lib/python3.7/site-packages/pandas/core/generic.py:3884: PerformanceWarning: dropping on a non-lexsorted multi-index without a level parameter may impact performance.\n",
      "  obj = obj._drop_axis(labels, axis, level=level, errors=errors)\n"
     ]
    }
   ],
   "source": [
    "CR = CR.pivot_table(columns='grp')"
   ]
  },
  {
   "cell_type": "code",
   "execution_count": 60,
   "metadata": {
    "colab": {
     "base_uri": "https://localhost:8080/",
     "height": 112
    },
    "id": "uxbR5B27ujIi",
    "outputId": "a634c93e-ba48-448f-c9db-94de1f54f95a"
   },
   "outputs": [
    {
     "data": {
      "text/html": [
       "<div>\n",
       "<style scoped>\n",
       "    .dataframe tbody tr th:only-of-type {\n",
       "        vertical-align: middle;\n",
       "    }\n",
       "\n",
       "    .dataframe tbody tr th {\n",
       "        vertical-align: top;\n",
       "    }\n",
       "\n",
       "    .dataframe thead th {\n",
       "        text-align: right;\n",
       "    }\n",
       "</style>\n",
       "<table border=\"1\" class=\"dataframe\">\n",
       "  <thead>\n",
       "    <tr style=\"text-align: right;\">\n",
       "      <th></th>\n",
       "      <th>grp</th>\n",
       "      <th>A</th>\n",
       "      <th>B</th>\n",
       "    </tr>\n",
       "  </thead>\n",
       "  <tbody>\n",
       "    <tr>\n",
       "      <th rowspan=\"2\" valign=\"top\">cheks</th>\n",
       "      <th>count</th>\n",
       "      <td>1535.0</td>\n",
       "      <td>6793.0</td>\n",
       "    </tr>\n",
       "    <tr>\n",
       "      <th>sum</th>\n",
       "      <td>78.0</td>\n",
       "      <td>313.0</td>\n",
       "    </tr>\n",
       "  </tbody>\n",
       "</table>\n",
       "</div>"
      ],
      "text/plain": [
       "grp               A       B\n",
       "cheks count  1535.0  6793.0\n",
       "      sum      78.0   313.0"
      ]
     },
     "execution_count": 60,
     "metadata": {},
     "output_type": "execute_result"
    }
   ],
   "source": [
    "CR"
   ]
  },
  {
   "cell_type": "code",
   "execution_count": 61,
   "metadata": {
    "colab": {
     "base_uri": "https://localhost:8080/"
    },
    "id": "wwlVMhtwkYsu",
    "outputId": "4f96a271-d25d-41bf-d8a2-2e5794791b01"
   },
   "outputs": [
    {
     "name": "stdout",
     "output_type": "stream",
     "text": [
      "0.4912034030799808\n"
     ]
    }
   ],
   "source": [
    "c, p, dof, expected = chi2_contingency(CR) \n",
    "print(p)"
   ]
  },
  {
   "cell_type": "markdown",
   "metadata": {
    "id": "4zsOe6C4v0ll"
   },
   "source": [
    "Значение p_value выше 5%, значит мы не можем отвергнуть нулевую гипотезу. Принимаем, что между группами А и В нет разницы. \n",
    "***Вывод:*** не стоит запускать новую механику оплаты для всех пользователей. Либо необходимо провести еще один подобный тест, но без каких-либо маркетинговых нововведений в этот период, для точной и честной оценки "
   ]
  },
  {
   "cell_type": "markdown",
   "metadata": {
    "id": "oau9HjEdXGi8"
   },
   "source": [
    "## **Дополнительный файл с пользователями**\n",
    "\n",
    "\n"
   ]
  },
  {
   "cell_type": "code",
   "execution_count": 62,
   "metadata": {
    "id": "fv30eOFIe1Qv"
   },
   "outputs": [],
   "source": [
    "group_add = pd.read_csv(load_file_in_yandex('https://disk.yandex.ru/d/5Kxrz02m3IBUwQ'), \n",
    "                        sep=',', error_bad_lines=False, comment='#', encoding='cp1251')"
   ]
  },
  {
   "cell_type": "markdown",
   "metadata": {
    "id": "70rcfKNC9I2f"
   },
   "source": [
    "Функция которая автоматически подгружает информацию из дополнительного файла group_add"
   ]
  },
  {
   "cell_type": "code",
   "execution_count": 70,
   "metadata": {
    "id": "mPEtbRvHe1Qw"
   },
   "outputs": [],
   "source": [
    "def add_new_data(groups, group_add, active_studs, checks):\n",
    "    groups_all = groups.append(group_add)\n",
    "\n",
    "    # Приведу все столбцы с id к одному названию\n",
    "    groups_all.rename(columns={groups_all.columns[0]: 'id'}, inplace=True)\n",
    "    groups.rename(columns={groups.columns[0]: 'id'}, inplace=True)\n",
    "    active_studs.rename(columns={active_studs.columns[0]: 'id'}, inplace=True)\n",
    "    checks.rename(columns={checks.columns[0]: 'id'}, inplace=True)\n",
    "\n",
    "    # Проставляю 1, чтобы в общей таблице удобно было деть подсчет действий\n",
    "    active_studs['activ'] = 1\n",
    "    checks['cheks'] = 1\n",
    "\n",
    "    # Собираю общую таблицу для просчета метрик \n",
    "    new_studs = active_studs \\\n",
    "        .merge(groups_all, how='left', on='id') \\\n",
    "        .merge(checks, how='left', on='id') \\\n",
    "        .dropna(subset=['grp'], axis=0) \\\n",
    "        .fillna(0)\n",
    "\n",
    "    # Расчет метрик\n",
    "    new_metrics = metrics(new_studs)\n",
    "    return (new_metrics)"
   ]
  },
  {
   "cell_type": "code",
   "execution_count": 64,
   "metadata": {
    "colab": {
     "base_uri": "https://localhost:8080/",
     "height": 112
    },
    "id": "unVzjyfkzGvZ",
    "outputId": "b262e625-9ce1-4c63-fc1d-332ad43efbdf"
   },
   "outputs": [
    {
     "data": {
      "text/html": [
       "<div>\n",
       "<style scoped>\n",
       "    .dataframe tbody tr th:only-of-type {\n",
       "        vertical-align: middle;\n",
       "    }\n",
       "\n",
       "    .dataframe tbody tr th {\n",
       "        vertical-align: top;\n",
       "    }\n",
       "\n",
       "    .dataframe thead th {\n",
       "        text-align: right;\n",
       "    }\n",
       "</style>\n",
       "<table border=\"1\" class=\"dataframe\">\n",
       "  <thead>\n",
       "    <tr style=\"text-align: right;\">\n",
       "      <th></th>\n",
       "      <th>grp</th>\n",
       "      <th>activ</th>\n",
       "      <th>cheks</th>\n",
       "      <th>rev</th>\n",
       "      <th>ARPU</th>\n",
       "      <th>ARPPU</th>\n",
       "      <th>CR</th>\n",
       "    </tr>\n",
       "  </thead>\n",
       "  <tbody>\n",
       "    <tr>\n",
       "      <th>0</th>\n",
       "      <td>A</td>\n",
       "      <td>1538</td>\n",
       "      <td>78.0</td>\n",
       "      <td>72820.0000</td>\n",
       "      <td>47.35</td>\n",
       "      <td>933.59</td>\n",
       "      <td>5.07</td>\n",
       "    </tr>\n",
       "    <tr>\n",
       "      <th>1</th>\n",
       "      <td>B</td>\n",
       "      <td>6803</td>\n",
       "      <td>314.0</td>\n",
       "      <td>394974.0035</td>\n",
       "      <td>58.06</td>\n",
       "      <td>1257.88</td>\n",
       "      <td>4.62</td>\n",
       "    </tr>\n",
       "  </tbody>\n",
       "</table>\n",
       "</div>"
      ],
      "text/plain": [
       "  grp  activ  cheks          rev   ARPU    ARPPU    CR\n",
       "0   A   1538   78.0   72820.0000  47.35   933.59  5.07\n",
       "1   B   6803  314.0  394974.0035  58.06  1257.88  4.62"
      ]
     },
     "execution_count": 64,
     "metadata": {},
     "output_type": "execute_result"
    }
   ],
   "source": [
    "new_metrics = add_new_data(groups, group_add, active_studs, checks)\n",
    "new_metrics"
   ]
  },
  {
   "cell_type": "code",
   "execution_count": 65,
   "metadata": {
    "colab": {
     "base_uri": "https://localhost:8080/",
     "height": 354
    },
    "id": "r0wPtG7Q-kKl",
    "outputId": "53ee365b-32c8-40a4-a3d1-5d859225f64d"
   },
   "outputs": [
    {
     "data": {
      "image/png": "[encoded data removed]",
      "text/plain": [
       "<Figure size 1152x360 with 3 Axes>"
      ]
     },
     "metadata": {},
     "output_type": "display_data"
    }
   ],
   "source": [
    "build_plot(new_metrics, 'ARPU', 'ARPPU', 'CR')"
   ]
  },
  {
   "cell_type": "markdown",
   "metadata": {
    "id": "FCKZP8qI_q48"
   },
   "source": [
    "# **SQL**"
   ]
  },
  {
   "cell_type": "markdown",
   "metadata": {
    "id": "53ZG1O3kSSN3"
   },
   "source": [
    "## Соединение с базой и загрузка данных"
   ]
  },
  {
   "cell_type": "code",
   "execution_count": 66,
   "metadata": {
    "id": "rL9f9yix_oAN"
   },
   "outputs": [],
   "source": [
    "connection_default = {'host': 'http://clickhouse.beslan.pro:8080',\n",
    "                      'database': 'default',\n",
    "                      'user': 'student', \n",
    "                      'password': 'dpo_python_2020'}"
   ]
  },
  {
   "cell_type": "code",
   "execution_count": 143,
   "metadata": {
    "id": "uYxkKTHMBBG6"
   },
   "outputs": [],
   "source": [
    "q = '''\n",
    "     SELECT\n",
    "        st_id,\n",
    "        toDateTime(timest) as timest,\n",
    "        correct,\n",
    "        subject\n",
    "     FROM\n",
    "        default.peas\n",
    "    '''"
   ]
  },
  {
   "cell_type": "code",
   "execution_count": 144,
   "metadata": {
    "id": "QkMcylLfBRcx"
   },
   "outputs": [],
   "source": [
    "peas = ph.read_clickhouse(query=q, connection=connection_default)"
   ]
  },
  {
   "cell_type": "code",
   "execution_count": 145,
   "metadata": {
    "id": "FiYeR44wBa1M"
   },
   "outputs": [],
   "source": [
    "q = '''\n",
    "     SELECT\n",
    "        st_id,\n",
    "        toDateTime(sale_time) as sale_time,\n",
    "        money,\n",
    "        subject\n",
    "     FROM\n",
    "        default.final_project_check\n",
    "    '''"
   ]
  },
  {
   "cell_type": "code",
   "execution_count": 146,
   "metadata": {
    "id": "m12EBpSdBa34"
   },
   "outputs": [],
   "source": [
    "final_project_check = ph.read_clickhouse(query=q, connection=connection_default)"
   ]
  },
  {
   "cell_type": "code",
   "execution_count": 147,
   "metadata": {
    "id": "ITS8lxrUBa-T"
   },
   "outputs": [],
   "source": [
    "q = '''\n",
    "     SELECT\n",
    "        st_id,\n",
    "        test_grp\n",
    "     FROM\n",
    "        default.studs\n",
    "    '''"
   ]
  },
  {
   "cell_type": "code",
   "execution_count": 148,
   "metadata": {
    "id": "SFU3scynBa_-"
   },
   "outputs": [],
   "source": [
    "studs = ph.read_clickhouse(query=q, connection=connection_default)"
   ]
  },
  {
   "cell_type": "markdown",
   "metadata": {
    "id": "9jYvYlh6B1Ud"
   },
   "source": [
    "Функция для выполнения запроса"
   ]
  },
  {
   "cell_type": "code",
   "execution_count": 149,
   "metadata": {
    "id": "Ghd-bExSB0s4"
   },
   "outputs": [],
   "source": [
    "def select(sql):\n",
    "    return ph.read_clickhouse(query=sql, connection=connection_default)"
   ]
  },
  {
   "cell_type": "markdown",
   "metadata": {
    "id": "PcZ0BUl_CK02"
   },
   "source": [
    "## Количество очень усердных учеников"
   ]
  },
  {
   "cell_type": "code",
   "execution_count": 150,
   "metadata": {
    "id": "QAKzRQHeBumd"
   },
   "outputs": [],
   "source": [
    "sql = '''\n",
    "    select count(st_id) as count_diligent_st\n",
    "    from (select p.st_id, sum(p.correct)\n",
    "        from peas p\n",
    "        group by p.st_id\n",
    "        having sum(p.correct) >= 20)\n",
    "'''"
   ]
  },
  {
   "cell_type": "code",
   "execution_count": 151,
   "metadata": {
    "colab": {
     "base_uri": "https://localhost:8080/",
     "height": 81
    },
    "id": "lvYd_JZjBupQ",
    "outputId": "1aabcdfe-5783-4920-ae49-d61062a19e91"
   },
   "outputs": [
    {
     "data": {
      "text/html": [
       "<div>\n",
       "<style scoped>\n",
       "    .dataframe tbody tr th:only-of-type {\n",
       "        vertical-align: middle;\n",
       "    }\n",
       "\n",
       "    .dataframe tbody tr th {\n",
       "        vertical-align: top;\n",
       "    }\n",
       "\n",
       "    .dataframe thead th {\n",
       "        text-align: right;\n",
       "    }\n",
       "</style>\n",
       "<table border=\"1\" class=\"dataframe\">\n",
       "  <thead>\n",
       "    <tr style=\"text-align: right;\">\n",
       "      <th></th>\n",
       "      <th>count_diligent_st</th>\n",
       "    </tr>\n",
       "  </thead>\n",
       "  <tbody>\n",
       "    <tr>\n",
       "      <th>0</th>\n",
       "      <td>136</td>\n",
       "    </tr>\n",
       "  </tbody>\n",
       "</table>\n",
       "</div>"
      ],
      "text/plain": [
       "   count_diligent_st\n",
       "0                136"
      ]
     },
     "execution_count": 151,
     "metadata": {},
     "output_type": "execute_result"
    }
   ],
   "source": [
    "select(sql)"
   ]
  },
  {
   "cell_type": "markdown",
   "metadata": {
    "id": "oFVgC1zQSjSg"
   },
   "source": [
    "## Оптимизация воронки"
   ]
  },
  {
   "cell_type": "code",
   "execution_count": 152,
   "metadata": {},
   "outputs": [
    {
     "data": {
      "text/html": [
       "<div>\n",
       "<style scoped>\n",
       "    .dataframe tbody tr th:only-of-type {\n",
       "        vertical-align: middle;\n",
       "    }\n",
       "\n",
       "    .dataframe tbody tr th {\n",
       "        vertical-align: top;\n",
       "    }\n",
       "\n",
       "    .dataframe thead th {\n",
       "        text-align: right;\n",
       "    }\n",
       "</style>\n",
       "<table border=\"1\" class=\"dataframe\">\n",
       "  <thead>\n",
       "    <tr style=\"text-align: right;\">\n",
       "      <th></th>\n",
       "      <th>grp</th>\n",
       "      <th>ARPU</th>\n",
       "      <th>ARPAU</th>\n",
       "      <th>CR</th>\n",
       "      <th>CR_activ</th>\n",
       "      <th>CR_math</th>\n",
       "    </tr>\n",
       "  </thead>\n",
       "  <tbody>\n",
       "    <tr>\n",
       "      <th>0</th>\n",
       "      <td>control</td>\n",
       "      <td>4540.98</td>\n",
       "      <td>10393.70</td>\n",
       "      <td>4.92</td>\n",
       "      <td>11.02</td>\n",
       "      <td>6.12</td>\n",
       "    </tr>\n",
       "    <tr>\n",
       "      <th>1</th>\n",
       "      <td>pilot</td>\n",
       "      <td>11508.47</td>\n",
       "      <td>29739.58</td>\n",
       "      <td>10.85</td>\n",
       "      <td>26.04</td>\n",
       "      <td>9.52</td>\n",
       "    </tr>\n",
       "  </tbody>\n",
       "</table>\n",
       "</div>"
      ],
      "text/plain": [
       "       grp      ARPU     ARPAU     CR  CR_activ  CR_math\n",
       "0  control   4540.98  10393.70   4.92     11.02     6.12\n",
       "1    pilot  11508.47  29739.58  10.85     26.04     9.52"
      ]
     },
     "execution_count": 152,
     "metadata": {},
     "output_type": "execute_result"
    }
   ],
   "source": [
    "sql = '''\n",
    "with money as (\n",
    "select st_id, sum_money, activs, test_grp\n",
    "from (\n",
    "    select st_id, activs, test_grp, sum_money\n",
    "    from (\n",
    "        select s.st_id,\n",
    "        p.correct as activs,\n",
    "        s.test_grp\n",
    "        from studs s left join (\n",
    "            select st_id, sum(correct) as correct\n",
    "            from peas\n",
    "            group by st_id) p \n",
    "        on s.st_id = p.st_id) s left join (\n",
    "            select st_id, sum(money) as sum_money\n",
    "            from final_project_check\n",
    "            group by st_id\n",
    "        ) m on s.st_id = m.st_id)),\n",
    "\n",
    "math_studs as (\n",
    "select p.st_id as st_id, p.corrected as cor_math,\n",
    "f.money as money_math, s.test_grp as test_grp\n",
    "from (select p.st_id, sum(p.correct) as corrected\n",
    "    from peas p\n",
    "    group by(p.st_id)\n",
    "    having p.subject='Math' and sum(p.correct)>=2) p\n",
    "    left join (select f.st_id, f.money\n",
    "                from final_project_check f\n",
    "                where f.subject='Math') f\n",
    "    on p.st_id=f.st_id\n",
    "    left join studs s\n",
    "    on p.st_id=s.st_id)\n",
    "\n",
    "select m.test_grp as grp, \n",
    "round(avg(m.sum_money), 2) as ARPU,\n",
    "round(sumIf(m.sum_money, m.activs > 10)/countIf(m.st_id, m.activs > 10), 2) as ARPAU,\n",
    "round(countIf(m.st_id, m.sum_money > 0)/count(m.st_id)*100, 2) as CR,\n",
    "round(countIf(m.st_id, m.sum_money > 0 and m.activs > 10)/countIf(m.st_id, m.activs > 10)*100, 2) as CR_activ,\n",
    "round(countIf(s.st_id, s.money_math>0)/countIf(s.st_id, s.cor_math>0)*100, 2) as CR_math\n",
    "from money m left join math_studs s on m.st_id=s.st_id\n",
    "group by m.test_grp\n",
    "'''\n",
    "select(sql)"
   ]
  },
  {
   "cell_type": "code",
   "execution_count": 154,
   "metadata": {},
   "outputs": [],
   "source": [
    "t = select(sql)"
   ]
  },
  {
   "cell_type": "code",
   "execution_count": 155,
   "metadata": {
    "colab": {
     "base_uri": "https://localhost:8080/",
     "height": 354
    },
    "id": "K6hyJPgKCvs5",
    "outputId": "45bcbed3-d385-4ef4-a873-42f2f2d795f0"
   },
   "outputs": [
    {
     "data": {
      "image/png": "[encoded data removed]",
      "text/plain": [
       "<Figure size 1152x360 with 3 Axes>"
      ]
     },
     "metadata": {},
     "output_type": "display_data"
    }
   ],
   "source": [
    "build_plot(t, 'ARPU', 'ARPAU', 'CR')"
   ]
  },
  {
   "cell_type": "code",
   "execution_count": null,
   "metadata": {
    "id": "kbpj3b4KdUMG"
   },
   "outputs": [],
   "source": []
  }
 ],
 "metadata": {
  "colab": {
   "collapsed_sections": [
    "6QhahFcIVejN",
    "MBs3Ia86X6SA",
    "lVoT8AfiYLQJ"
   ],
   "provenance": []
  },
  "kernelspec": {
   "display_name": "Python 3",
   "language": "python",
   "name": "python3"
  },
  "language_info": {
   "codemirror_mode": {
    "name": "ipython",
    "version": 3
   },
   "file_extension": ".py",
   "mimetype": "text/x-python",
   "name": "python",
   "nbconvert_exporter": "python",
   "pygments_lexer": "ipython3",
   "version": "3.7.3"
  }
 },
 "nbformat": 4,
 "nbformat_minor": 1
}
